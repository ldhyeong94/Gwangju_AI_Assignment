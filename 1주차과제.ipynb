{
  "nbformat": 4,
  "nbformat_minor": 0,
  "metadata": {
    "colab": {
      "name": "1주차과제.ipynb",
      "provenance": [],
      "collapsed_sections": [],
      "authorship_tag": "ABX9TyNw+cnkFO74hflu17UsyvYt",
      "include_colab_link": true
    },
    "kernelspec": {
      "name": "python3",
      "display_name": "Python 3"
    }
  },
  "cells": [
    {
      "cell_type": "markdown",
      "metadata": {
        "id": "view-in-github",
        "colab_type": "text"
      },
      "source": [
        "<a href=\"https://colab.research.google.com/github/ldhyeong94/Gwangju_AI_Assignment/blob/master/1%EC%A3%BC%EC%B0%A8%EA%B3%BC%EC%A0%9C.ipynb\" target=\"_parent\"><img src=\"https://colab.research.google.com/assets/colab-badge.svg\" alt=\"Open In Colab\"/></a>"
      ]
    },
    {
      "cell_type": "markdown",
      "metadata": {
        "id": "-iunNcwfJkGz",
        "colab_type": "text"
      },
      "source": [
        "#언어\n",
        "+ 기술\n",
        "+ 제품 및 서비스\n"
      ]
    },
    {
      "cell_type": "markdown",
      "metadata": {
        "id": "UZNljethJnS1",
        "colab_type": "text"
      },
      "source": [
        "# 음성\n",
        "+ 기술\n",
        "+ 제품 및 서비스\n"
      ]
    },
    {
      "cell_type": "markdown",
      "metadata": {
        "id": "oCF2FUw3Jngp",
        "colab_type": "text"
      },
      "source": [
        "#이미지\n",
        "+ 기술\n",
        "\n",
        "\n",
        "+ 제품 및 서비스  \n",
        "LG CNS의 AI 이미지 분석 기술 \n",
        "보안 검색대\n",
        "무인 스토어"
      ]
    },
    {
      "cell_type": "markdown",
      "metadata": {
        "id": "bdPSvneQJnnh",
        "colab_type": "text"
      },
      "source": [
        "# 자율주행\n",
        "+ 기술  \n",
        "카메라를 이용하여 물체를 감지하고 주변 상황에 따라 차량의 조향, 가속 및 제동을 제어함. 아직 완전한 자율주행이 아닌 운전자의 제어를 보조하는 역활을 함 \n",
        "\n",
        "+ 제품 및 서비스  \n",
        "Tesla autopilot\n"
      ]
    }
  ]
}
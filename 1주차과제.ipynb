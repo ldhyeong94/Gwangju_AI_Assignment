{
  "nbformat": 4,
  "nbformat_minor": 0,
  "metadata": {
    "colab": {
      "name": "1주차과제.ipynb",
      "provenance": [],
      "collapsed_sections": [],
      "authorship_tag": "ABX9TyM3/T3A7M7dKBYxhI5TYmDX",
      "include_colab_link": true
    },
    "kernelspec": {
      "name": "python3",
      "display_name": "Python 3"
    }
  },
  "cells": [
    {
      "cell_type": "markdown",
      "metadata": {
        "id": "view-in-github",
        "colab_type": "text"
      },
      "source": [
        "<a href=\"https://colab.research.google.com/github/ldhyeong94/Gwangju_AI_Assignment/blob/master/1%EC%A3%BC%EC%B0%A8%EA%B3%BC%EC%A0%9C.ipynb\" target=\"_parent\"><img src=\"https://colab.research.google.com/assets/colab-badge.svg\" alt=\"Open In Colab\"/></a>"
      ]
    },
    {
      "cell_type": "markdown",
      "metadata": {
        "id": "pmaXdJ4pAUTk",
        "colab_type": "text"
      },
      "source": [
        "# 1주차 과제"
      ]
    },
    {
      "cell_type": "markdown",
      "metadata": {
        "id": "-iunNcwfJkGz",
        "colab_type": "text"
      },
      "source": [
        "#언어\n",
        "+ 기술  \n",
        "자연어 처리란 인간이 발화하는 언어 현상을 기계적으로 분석해 컴퓨터가 이해할 수 있는 형태로 만드는 것이다. 이를 통하여 글의 감정을 분석할 수 있다.\n",
        "+ 제품 및 서비스  \n",
        "심리 상담 서비스  \n",
        "악성 댓글 차단 서비스  \n",
        "시나리오 작가  \n",
        "삼성 SDS의 대화형 AI서비스 Brity\n",
        "\n"
      ]
    },
    {
      "cell_type": "markdown",
      "metadata": {
        "id": "UZNljethJnS1",
        "colab_type": "text"
      },
      "source": [
        "# 음성\n",
        "+ 기술  \n",
        "음성이 입력 되면 자연어 처리를 통하여 인식의 결과 도출된다.\n",
        "+ 제품 및 서비스  \n",
        "\n",
        " Amazon의 Amazon echo라는 스마트 스피커를 통해 Amazon의 Alexa와 의사소통을 하면서 음악재생, 알람설정, 날씨정보 같은 다양한 기능을 제공해준다.\n",
        "Naver의 CLOVA 서비스"
      ]
    },
    {
      "cell_type": "markdown",
      "metadata": {
        "id": "oCF2FUw3Jngp",
        "colab_type": "text"
      },
      "source": [
        "#이미지\n",
        "+ 기술  \n",
        " 센서를 통한 이미지를 처리하여 특수한 환경에서 특수한 임무를 수행하는 시스템을 구축을 목표로 한다. 딥러닝을 통해 사람의 시각처럼 높은 정확도와 다양한 사물 인식이 가능한 이미지 분석으로 한 단계 진화하여 등장하였다. 핵심 기술중 하나는 노이즈를 잘 판단하는 것이다. \n",
        "\n",
        "+ 제품 및 서비스  \n",
        "LG CNS의 AI 이미지 분석 기술 (스마트 팩토리)  \n",
        "보안 검색대  \n",
        "무인 스토어 ( LG사이언스 파크의 LG 연구동에 위치)\n"
      ]
    },
    {
      "cell_type": "markdown",
      "metadata": {
        "id": "bdPSvneQJnnh",
        "colab_type": "text"
      },
      "source": [
        "# 자율주행\n",
        "+ 기술  \n",
        "카메라를 이용하여 물체를 감지하고 주변 상황에 따라 차량의 조향, 가속 및 제동을 제어함. 아직 완전한 자율주행이 아닌 운전자의 제어를 보조하는 역활을 함 \n",
        "\n",
        "+ 제품 및 서비스  \n",
        "Tesla autopilot  \n",
        "현대 기아차의 부분 자율주행을 구현하는 기술 SCC-ML"
      ]
    },
    {
      "cell_type": "code",
      "metadata": {
        "id": "5hg-AMkIH2S6",
        "colab_type": "code",
        "colab": {}
      },
      "source": [
        ""
      ],
      "execution_count": 0,
      "outputs": []
    }
  ]
}